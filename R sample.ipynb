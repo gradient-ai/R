{
 "cells": [
  {
   "cell_type": "markdown",
   "id": "toxic-veteran",
   "metadata": {
    "gradient": {
     "editing": false
    }
   },
   "source": [
    "# Jupyter R notebook\n",
    "\n",
    "This notebook is based on the [jupyter/base-notebook](https://jupyter-docker-stacks.readthedocs.io/en/latest/using/selecting.html#jupyter-base-notebook) image from the Jupyter Docker Stacks project. "
   ]
  },
  {
   "cell_type": "markdown",
   "id": "downtown-lucas",
   "metadata": {
    "gradient": {
     "editing": false
    }
   },
   "source": [
    "### Sample commands"
   ]
  },
  {
   "cell_type": "code",
   "execution_count": null,
   "id": "bigger-secretary",
   "metadata": {
    "gradient": {}
   },
   "outputs": [],
   "source": [
    "print('Hello world! Love, R in Jupyter.')"
   ]
  },
  {
   "cell_type": "code",
   "execution_count": null,
   "id": "northern-leader",
   "metadata": {
    "gradient": {}
   },
   "outputs": [],
   "source": [
    "# Construct a matrix with 5 rows that contain the numbers 1 up to 10 and byrow =  TRUE \n",
    "matrix_a <-matrix(1:10, byrow = TRUE, nrow = 5)\n",
    "matrix_a"
   ]
  },
  {
   "cell_type": "code",
   "execution_count": null,
   "id": "announced-programmer",
   "metadata": {
    "gradient": {}
   },
   "outputs": [],
   "source": [
    "x <- seq(0, 2*pi, length.out=50)\n",
    "plot(x, sin(x))"
   ]
  }
 ],
 "metadata": {
  "kernelspec": {
   "display_name": "R",
   "language": "R",
   "name": "ir"
  },
  "language_info": {
   "codemirror_mode": "r",
   "file_extension": ".r",
   "mimetype": "text/x-r-source",
   "name": "R",
   "pygments_lexer": "r",
   "version": "4.0.3"
  }
 },
 "nbformat": 4,
 "nbformat_minor": 5
}
